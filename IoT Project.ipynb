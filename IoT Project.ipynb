{
 "cells": [
  {
   "cell_type": "code",
   "execution_count": 2,
   "metadata": {},
   "outputs": [],
   "source": [
    "import tkinter as tk\n",
    "from time import strftime\n",
    "from datetime import datetime\n",
    "\n",
    "# Initialize variables for file management\n",
    "file_index = 1\n",
    "line_count = 0\n",
    "file_name = f\"resource_{file_index:02d}.txt\"\n",
    "\n",
    "# Function to write the current time to the file\n",
    "def write_time_to_file():\n",
    "    global file_index, line_count, file_name\n",
    "\n",
    "    # Get the current time\n",
    "    current_time = strftime('%H:%M:%S %p')\n",
    "\n",
    "    # Open the file in append mode\n",
    "    with open(file_name, 'a') as file:\n",
    "        # Write the current time with line number\n",
    "        file.write(f\"{line_count + 1}. {current_time}\\n\")\n",
    "    \n",
    "    # Increment the line count\n",
    "    line_count += 1\n",
    "\n",
    "    # Check if the current file has reached 10 lines\n",
    "    if line_count >= 10:\n",
    "        # Increment the file index\n",
    "        file_index += 1\n",
    "        # Reset the line count\n",
    "        line_count = 0\n",
    "        # Update the file name with the new index\n",
    "        file_name = f\"resource_{file_index:02d}.txt\"\n",
    "    \n",
    "    # Schedule this function to be called again after 30 seconds\n",
    "    root.after(30000, write_time_to_file)\n",
    "\n",
    "# Function to update the time displayed on the label\n",
    "def time():\n",
    "    current_time = strftime('%H:%M:%S %p')\n",
    "    label.config(text=current_time)\n",
    "    label.after(1000, time)\n",
    "\n",
    "# Set up the main application window\n",
    "root = tk.Tk()\n",
    "root.title(\"Real-Time Clock\")\n",
    "\n",
    "# Create a label to display the time\n",
    "label = tk.Label(root, font=('calibri', 40, 'bold'), background='black', foreground='white')\n",
    "label.pack(anchor='center')\n",
    "\n",
    "# Start the time function\n",
    "time()\n",
    "\n",
    "# Start the function to write time to file\n",
    "write_time_to_file()\n",
    "\n",
    "# Run the Tkinter event loop\n",
    "root.mainloop()\n"
   ]
  },
  {
   "cell_type": "code",
   "execution_count": null,
   "metadata": {},
   "outputs": [],
   "source": []
  }
 ],
 "metadata": {
  "kernelspec": {
   "display_name": "Python 3",
   "language": "python",
   "name": "python3"
  },
  "language_info": {
   "codemirror_mode": {
    "name": "ipython",
    "version": 3
   },
   "file_extension": ".py",
   "mimetype": "text/x-python",
   "name": "python",
   "nbconvert_exporter": "python",
   "pygments_lexer": "ipython3",
   "version": "3.12.4"
  }
 },
 "nbformat": 4,
 "nbformat_minor": 2
}
